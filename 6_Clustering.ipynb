{
 "cells": [
  {
   "cell_type": "markdown",
   "id": "2a2c7cfc",
   "metadata": {},
   "source": [
    "# Clustering"
   ]
  },
  {
   "cell_type": "markdown",
   "id": "a8ca4b86",
   "metadata": {},
   "source": [
    "Find clusters based on revenues from the 1st Quarter of 2019 until the 3rd Quarter of 2022. The first part consists in the use of the elbow method to find the ideal number of clusters and the second part consists in finding the actual clusters."
   ]
  },
  {
   "cell_type": "code",
   "execution_count": null,
   "id": "06e22dcb",
   "metadata": {},
   "outputs": [],
   "source": [
    "# Import necessary libraries\n",
    "import pickle\n",
    "import numpy as np\n",
    "import matplotlib.pyplot as plt\n",
    "from kneed import KneeLocator\n",
    "from sklearn.cluster import KMeans"
   ]
  },
  {
   "cell_type": "markdown",
   "id": "0c98e6da",
   "metadata": {},
   "source": [
    "## Elbow method"
   ]
  },
  {
   "cell_type": "markdown",
   "id": "c8bdd8c7",
   "metadata": {},
   "source": [
    "### Recurring customers"
   ]
  },
  {
   "cell_type": "code",
   "execution_count": null,
   "id": "0c9a5f77",
   "metadata": {},
   "outputs": [],
   "source": [
    "# Import data\n",
    "with open('Data final\\\\data_recurring_imputed.pkl', 'rb') as file:\n",
    "    data_recurring = pickle.load(file)"
   ]
  },
  {
   "cell_type": "code",
   "execution_count": null,
   "id": "be0d3254",
   "metadata": {},
   "outputs": [],
   "source": [
    "# Initialize k-means algorithm\n",
    "kmeans_kwargs = {\n",
    "    \"init\": \"random\",\n",
    "    \"n_init\": 10,\n",
    "    \"max_iter\": 300,\n",
    "    \"random_state\": 42,\n",
    "}"
   ]
  },
  {
   "cell_type": "code",
   "execution_count": null,
   "id": "0c4f769a",
   "metadata": {},
   "outputs": [],
   "source": [
    "# Run k-means algorithm for 10 iterations\n",
    "sse = []\n",
    "for k in range(1, 11):\n",
    "    kmeans = KMeans(n_clusters=k, **kmeans_kwargs)\n",
    "    kmeans.fit(np.array(data_recurring[\"Total_revenue\"]).reshape(-1, 1))\n",
    "    sse.append(kmeans.inertia_)"
   ]
  },
  {
   "cell_type": "code",
   "execution_count": null,
   "id": "c7fe43f2",
   "metadata": {},
   "outputs": [],
   "source": [
    "# Plot elbow curve\n",
    "plt.style.use(\"fivethirtyeight\")\n",
    "plt.plot(range(1, 11), sse)\n",
    "plt.xticks(range(1, 11))\n",
    "plt.xlabel(\"Number of Clusters\")\n",
    "plt.ylabel(\"SSE\")\n",
    "\n",
    "# Save the plot\n",
    "plt.savefig(\"Elbow method for recurring.jpeg\", bbox_inches='tight')\n",
    "\n",
    "plt.show()"
   ]
  },
  {
   "cell_type": "code",
   "execution_count": null,
   "id": "69c5127a",
   "metadata": {},
   "outputs": [],
   "source": [
    "# Find the best number of clusters\n",
    "kl = KneeLocator(\n",
    "    range(1, 11), sse, curve=\"convex\", direction=\"decreasing\"\n",
    ")\n",
    "kl.elbow"
   ]
  },
  {
   "cell_type": "markdown",
   "id": "5f0e5741",
   "metadata": {},
   "source": [
    "### New customers"
   ]
  },
  {
   "cell_type": "code",
   "execution_count": null,
   "id": "2f090616",
   "metadata": {},
   "outputs": [],
   "source": [
    "# Import data\n",
    "with open('Data final\\\\data_new_imputed.pkl', 'rb') as file:\n",
    "    data_new = pickle.load(file)"
   ]
  },
  {
   "cell_type": "code",
   "execution_count": null,
   "id": "71df2378",
   "metadata": {},
   "outputs": [],
   "source": [
    "# Initialize k-means algorithm\n",
    "kmeans_kwargs = {\n",
    "    \"init\": \"random\",\n",
    "    \"n_init\": 10,\n",
    "    \"max_iter\": 300,\n",
    "    \"random_state\": 42,\n",
    "}"
   ]
  },
  {
   "cell_type": "code",
   "execution_count": null,
   "id": "34375ea3",
   "metadata": {},
   "outputs": [],
   "source": [
    "# Run k-means algorithm for 10 iterations\n",
    "sse = []\n",
    "for k in range(1, 11):\n",
    "    kmeans = KMeans(n_clusters=k, **kmeans_kwargs)\n",
    "    kmeans.fit(np.array(data_new[\"Total_revenue\"]).reshape(-1, 1))\n",
    "    sse.append(kmeans.inertia_)"
   ]
  },
  {
   "cell_type": "code",
   "execution_count": null,
   "id": "b5bd2a0c",
   "metadata": {},
   "outputs": [],
   "source": [
    "# Plot elbow curve\n",
    "plt.style.use(\"fivethirtyeight\")\n",
    "plt.plot(range(1, 11), sse)\n",
    "plt.xticks(range(1, 11))\n",
    "plt.xlabel(\"Number of Clusters\")\n",
    "plt.ylabel(\"SSE\")\n",
    "\n",
    "# Save the plot\n",
    "plt.savefig(\"Elbow method for new.jpeg\", bbox_inches='tight')\n",
    "\n",
    "plt.show()"
   ]
  },
  {
   "cell_type": "code",
   "execution_count": null,
   "id": "e97d273b",
   "metadata": {},
   "outputs": [],
   "source": [
    "# Find the best number of clusters\n",
    "kl = KneeLocator(\n",
    "    range(1, 11), sse, curve=\"convex\", direction=\"decreasing\"\n",
    ")\n",
    "kl.elbow"
   ]
  },
  {
   "cell_type": "markdown",
   "id": "651ce847",
   "metadata": {},
   "source": [
    "## Learn the clusters on data from Q1'19 - Q3'22"
   ]
  },
  {
   "cell_type": "markdown",
   "id": "19023e5c",
   "metadata": {},
   "source": [
    "### Recurring customers "
   ]
  },
  {
   "cell_type": "code",
   "execution_count": null,
   "id": "bb61ffc7",
   "metadata": {},
   "outputs": [],
   "source": [
    "# Initialize the k-means algorithms \n",
    "kmeans_recurring = KMeans(\n",
    "    init=\"random\",\n",
    "    n_clusters=3, # best value selected using the Elbow method\n",
    "    n_init=10,\n",
    "    max_iter=300,\n",
    "    random_state=42\n",
    ")"
   ]
  },
  {
   "cell_type": "code",
   "execution_count": null,
   "id": "20b95437",
   "metadata": {},
   "outputs": [],
   "source": [
    "# Run k-means algorithm\n",
    "kmeans_recurring.fit(np.array(data_recurring[\"Total_revenue\"]).reshape(-1, 1))"
   ]
  },
  {
   "cell_type": "code",
   "execution_count": null,
   "id": "352e293d",
   "metadata": {},
   "outputs": [],
   "source": [
    "# Final locations of the centroid\n",
    "print(kmeans_recurring.cluster_centers_)"
   ]
  },
  {
   "cell_type": "code",
   "execution_count": null,
   "id": "096a7860",
   "metadata": {},
   "outputs": [],
   "source": [
    "# Cluster assignments \n",
    "print(kmeans_recurring.labels_)\n",
    "\n",
    "# Assign clusters to the observations\n",
    "data_recurring_clusters = data_recurring.copy()\n",
    "data_recurring_clusters[\"Cluster\"] = kmeans_recurring.labels_"
   ]
  },
  {
   "cell_type": "code",
   "execution_count": null,
   "id": "66ed5cda",
   "metadata": {},
   "outputs": [],
   "source": [
    "# Change labels in y\n",
    "mapping = {0: 1, 1: 0, 2: 2}\n",
    "data_recurring_clusters[\"Cluster\"] = np.where(np.isin(data_recurring_clusters[\"Cluster\"], list(mapping.keys())), [mapping[x] for x in data_recurring_clusters[\"Cluster\"]], data_recurring_clusters[\"Cluster\"])"
   ]
  },
  {
   "cell_type": "code",
   "execution_count": null,
   "id": "1cde812b",
   "metadata": {},
   "outputs": [],
   "source": [
    "# Extract data of the first cluster\n",
    "data_recurring_clusters_low = data_recurring_clusters.loc[data_recurring_clusters[\"Cluster\"] == 0]\n",
    "# Extract data of the second cluster\n",
    "data_recurring_clusters_mid = data_recurring_clusters.loc[data_recurring_clusters[\"Cluster\"] == 1]\n",
    "# Extract data of the third cluster\n",
    "data_recurring_clusters_high = data_recurring_clusters.loc[data_recurring_clusters[\"Cluster\"] == 2]"
   ]
  },
  {
   "cell_type": "code",
   "execution_count": null,
   "id": "bb9b1d9b",
   "metadata": {},
   "outputs": [],
   "source": [
    "# Save pickle files of data for each cluster\n",
    "with open('Data clustering\\\\data_recurring_clusters_high.pkl', 'wb') as file:\n",
    "    pickle.dump(data_recurring_clusters_high, file)\n",
    "with open('Data clustering\\\\data_recurring_clusters_mid.pkl', 'wb') as file:\n",
    "    pickle.dump(data_recurring_clusters_mid, file)\n",
    "with open('Data clustering\\\\data_recurring_clusters_low.pkl', 'wb') as file:\n",
    "    pickle.dump(data_recurring_clusters_low, file)"
   ]
  },
  {
   "cell_type": "code",
   "execution_count": null,
   "id": "8da21692",
   "metadata": {},
   "outputs": [],
   "source": [
    "# Save pickle file of all data with cluster assignments\n",
    "with open('Data clustering\\\\data_recurring_clusters.pkl', 'wb') as file:\n",
    "    pickle.dump(data_recurring_clusters, file)"
   ]
  },
  {
   "cell_type": "markdown",
   "id": "045ec1e4",
   "metadata": {},
   "source": [
    "### New customers "
   ]
  },
  {
   "cell_type": "code",
   "execution_count": null,
   "id": "bea99243",
   "metadata": {},
   "outputs": [],
   "source": [
    "# Initialize the k-means algorithms \n",
    "kmeans_new = KMeans(\n",
    "    init=\"random\",\n",
    "    n_clusters=3, # best value selected using the Elbow method\n",
    "    n_init=10,\n",
    "    max_iter=300,\n",
    "    random_state=42\n",
    ")"
   ]
  },
  {
   "cell_type": "code",
   "execution_count": null,
   "id": "48f673ee",
   "metadata": {},
   "outputs": [],
   "source": [
    "# Run k-means algorithm\n",
    "kmeans_new.fit(np.array(data_new[\"Total_revenue\"]).reshape(-1, 1))"
   ]
  },
  {
   "cell_type": "code",
   "execution_count": null,
   "id": "20f7222d",
   "metadata": {},
   "outputs": [],
   "source": [
    "# Final locations of the centroid\n",
    "print(kmeans_new.cluster_centers_)"
   ]
  },
  {
   "cell_type": "code",
   "execution_count": null,
   "id": "c9b00748",
   "metadata": {},
   "outputs": [],
   "source": [
    "# Cluster assignments \n",
    "print(kmeans_new.labels_)\n",
    "\n",
    "# Assign clusters to the observations\n",
    "data_new_clusters = data_new.copy()\n",
    "data_new_clusters[\"Cluster\"] = kmeans_new.labels_"
   ]
  },
  {
   "cell_type": "code",
   "execution_count": null,
   "id": "30b14420",
   "metadata": {},
   "outputs": [],
   "source": [
    "# Change labels in y\n",
    "mapping = {0: 0, 1: 2, 2: 1}\n",
    "data_new_clusters[\"Cluster\"] = np.where(np.isin(data_new_clusters[\"Cluster\"], list(mapping.keys())), [mapping[x] for x in data_new_clusters[\"Cluster\"]], data_new_clusters[\"Cluster\"])"
   ]
  },
  {
   "cell_type": "code",
   "execution_count": null,
   "id": "bdfa2bf4",
   "metadata": {},
   "outputs": [],
   "source": [
    "# Extract data of the first cluster\n",
    "data_new_clusters_low = data_new_clusters.loc[data_new_clusters[\"Cluster\"] == 0]\n",
    "# Extract data of the second cluster\n",
    "data_new_clusters_mid = data_new_clusters.loc[data_new_clusters[\"Cluster\"] == 1]\n",
    "# Extract data of the third cluster\n",
    "data_new_clusters_high = data_new_clusters.loc[data_new_clusters[\"Cluster\"] == 2]"
   ]
  },
  {
   "cell_type": "code",
   "execution_count": null,
   "id": "1c8ab967",
   "metadata": {},
   "outputs": [],
   "source": [
    "# Save pickle files of data for each cluster\n",
    "with open('Data clustering\\\\data_new_clusters_high.pkl', 'wb') as file:\n",
    "    pickle.dump(data_new_clusters_high, file)\n",
    "with open('Data clustering\\\\data_new_clusters_mid.pkl', 'wb') as file:\n",
    "    pickle.dump(data_new_clusters_mid, file)\n",
    "with open('Data clustering\\\\data_new_clusters_low.pkl', 'wb') as file:\n",
    "    pickle.dump(data_new_clusters_low, file)"
   ]
  },
  {
   "cell_type": "code",
   "execution_count": null,
   "id": "1a6b6c44",
   "metadata": {},
   "outputs": [],
   "source": [
    "# Save pickle file of all data with cluster assignments\n",
    "with open('Data clustering\\\\data_new_clusters.pkl', 'wb') as file:\n",
    "    pickle.dump(data_new_clusters, file)"
   ]
  }
 ],
 "metadata": {
  "kernelspec": {
   "display_name": "Python 3 (ipykernel)",
   "language": "python",
   "name": "python3"
  },
  "language_info": {
   "codemirror_mode": {
    "name": "ipython",
    "version": 3
   },
   "file_extension": ".py",
   "mimetype": "text/x-python",
   "name": "python",
   "nbconvert_exporter": "python",
   "pygments_lexer": "ipython3",
   "version": "3.9.15"
  }
 },
 "nbformat": 4,
 "nbformat_minor": 5
}
