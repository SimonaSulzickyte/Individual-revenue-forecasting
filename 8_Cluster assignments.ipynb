{
 "cells": [
  {
   "cell_type": "markdown",
   "id": "17242581",
   "metadata": {},
   "source": [
    "# Cluster assignments"
   ]
  },
  {
   "cell_type": "markdown",
   "id": "ad4388a2",
   "metadata": {},
   "source": [
    "Get cluster assignments for customers in the 4th Quarter of 2022. That is, predict what cluster the customers in th 4th Quarter of 2022 belong to."
   ]
  },
  {
   "cell_type": "code",
   "execution_count": null,
   "id": "91625b40",
   "metadata": {},
   "outputs": [],
   "source": [
    "# Import necessary libraries\n",
    "import pickle \n",
    "import pandas as pd\n",
    "from imblearn.combine import SMOTETomek\n",
    "from imblearn.under_sampling import TomekLinks\n",
    "from imblearn.over_sampling import SMOTENC\n",
    "from xgboost import XGBRegressor, XGBClassifier"
   ]
  },
  {
   "cell_type": "markdown",
   "id": "fa316319",
   "metadata": {},
   "source": [
    "## Recurring customers"
   ]
  },
  {
   "cell_type": "markdown",
   "id": "049cb321",
   "metadata": {},
   "source": [
    "For recurring customers, only XGBoost was used to get cluster assignments."
   ]
  },
  {
   "cell_type": "markdown",
   "id": "8a1b0c25",
   "metadata": {},
   "source": [
    "### XGBoost"
   ]
  },
  {
   "cell_type": "code",
   "execution_count": null,
   "id": "e9094c74",
   "metadata": {},
   "outputs": [],
   "source": [
    "# Import training data\n",
    "with open('Data clustering\\\\data_recurring_clusters.pkl', 'rb') as file:\n",
    "    data_recurring_clusters = pickle.load(file)"
   ]
  },
  {
   "cell_type": "code",
   "execution_count": null,
   "id": "129079db",
   "metadata": {},
   "outputs": [],
   "source": [
    "# Divide data into dependent and independent variables\n",
    "y = data_recurring_clusters[\"Cluster\"]\n",
    "X = data_recurring_clusters.drop([\"Total revenue\", \"Cluster\"], axis = \"columns\")"
   ]
  },
  {
   "cell_type": "code",
   "execution_count": null,
   "id": "74617f7b",
   "metadata": {},
   "outputs": [],
   "source": [
    "# Define the model with the best parameters \n",
    "model_xgb = XGBClassifier(subsample = 0.9, objective = 'multi:softmax', n_estimators = 200, min_child_weight = 3, \n",
    "                    max_depth = 6, gamma = 0.2, eta = 0.3, colsample_bytree = 0.6, booster = 'gbtree')"
   ]
  },
  {
   "cell_type": "code",
   "execution_count": null,
   "id": "134f5022",
   "metadata": {},
   "outputs": [],
   "source": [
    "# Fit the model\n",
    "model_xgb.fit(X, y)"
   ]
  },
  {
   "cell_type": "code",
   "execution_count": null,
   "id": "e55939a7",
   "metadata": {},
   "outputs": [],
   "source": [
    "# Import data for predictions\n",
    "with open('Data final\\\\data_recurring_test.pkl', 'rb') as file:\n",
    "    data_recurring_test = pickle.load(file)"
   ]
  },
  {
   "cell_type": "code",
   "execution_count": null,
   "id": "50213eec",
   "metadata": {},
   "outputs": [],
   "source": [
    "# Fix Quarter variables\n",
    "data_recurring_test[\"Quarter_3\"] = 0\n",
    "data_recurring_test[\"Quarter_4\"] = 1 \n",
    "# Remove total revenue (we don't predict clusters based on this variable)\n",
    "data_recurring_test = data_recurring_test.drop([\"Total revenue\"], axis = \"columns\")\n",
    "# Remove observations with missing values in Default probability\n",
    "data_recurring_test = data_recurring_test.loc[-data_recurring_test[\"Default probability\"].isna()]"
   ]
  },
  {
   "cell_type": "code",
   "execution_count": null,
   "id": "500d0b28",
   "metadata": {},
   "outputs": [],
   "source": [
    "# Get predictions\n",
    "pred = model_xgb.predict(data_recurring_test)"
   ]
  },
  {
   "cell_type": "code",
   "execution_count": null,
   "id": "d57a1f58",
   "metadata": {},
   "outputs": [],
   "source": [
    "# Save predictions\n",
    "with open(\"data_recurring_test_clusters.pkl\", \"wb\") as file:\n",
    "    pickle.dump(pred, file)"
   ]
  },
  {
   "cell_type": "markdown",
   "id": "dd193a50",
   "metadata": {},
   "source": [
    "## New customers"
   ]
  },
  {
   "cell_type": "markdown",
   "id": "60465c46",
   "metadata": {},
   "source": [
    "For new customers, XGBoost and XGBoost with SMOTE+Tomek resampling were used to get cluster assignments."
   ]
  },
  {
   "cell_type": "markdown",
   "id": "0db8f2ce",
   "metadata": {},
   "source": [
    "### XGBoost"
   ]
  },
  {
   "cell_type": "code",
   "execution_count": null,
   "id": "92d83874",
   "metadata": {},
   "outputs": [],
   "source": [
    "# Import training data\n",
    "with open('Data clustering\\\\data_new_clusters.pkl', 'rb') as file:\n",
    "    data_new_clusters = pickle.load(file)"
   ]
  },
  {
   "cell_type": "code",
   "execution_count": null,
   "id": "fea10d80",
   "metadata": {},
   "outputs": [],
   "source": [
    "# Divide data into dependent and independent variables\n",
    "y = data_new_clusters[\"Cluster\"]\n",
    "X = data_new_clusters.drop([\"Total revenue\", \"Cluster\"], axis = \"columns\")"
   ]
  },
  {
   "cell_type": "code",
   "execution_count": null,
   "id": "48c8cac9",
   "metadata": {},
   "outputs": [],
   "source": [
    "# Define the model with the best parameters \n",
    "model_xgb = XGBClassifier(subsample = 1, objective = 'multi:softmax', n_estimators = 200, min_child_weight = 2, \n",
    "                    max_depth = 5, gamma = 0.2, eta = 0.5, colsample_bytree = 0.9, booster = 'gbtree')"
   ]
  },
  {
   "cell_type": "code",
   "execution_count": null,
   "id": "96f58ac3",
   "metadata": {},
   "outputs": [],
   "source": [
    "# Fit the model\n",
    "model_xgb.fit(X, y)"
   ]
  },
  {
   "cell_type": "code",
   "execution_count": null,
   "id": "358425cb",
   "metadata": {},
   "outputs": [],
   "source": [
    "# Import data for predictions\n",
    "with open('Data final\\\\data_new_test.pkl', 'rb') as file:\n",
    "    data_new_test = pickle.load(file)"
   ]
  },
  {
   "cell_type": "code",
   "execution_count": null,
   "id": "0a218734",
   "metadata": {},
   "outputs": [],
   "source": [
    "# Fix Quarter variables\n",
    "data_new_test[\"Quarter_2\"] = 0\n",
    "data_new_test[\"Quarter_4\"] = 1 \n",
    "# Remove total revenue (we don't predict clusters based on this variable)\n",
    "data_new_test = data_new_test.drop([\"Total revenue\"], axis = \"columns\")\n",
    "# Remove observations with missing values in Default probability\n",
    "data_new_test = data_new_test.loc[-data_new_test[\"Default probability\"].isna()]"
   ]
  },
  {
   "cell_type": "code",
   "execution_count": null,
   "id": "c3af20e1",
   "metadata": {},
   "outputs": [],
   "source": [
    "# Get predictions\n",
    "pred = model_xgb.predict(data_new_test)"
   ]
  },
  {
   "cell_type": "code",
   "execution_count": null,
   "id": "e33f8dbf",
   "metadata": {},
   "outputs": [],
   "source": [
    "# Save predictions\n",
    "with open(\"data_new_test_clusters.pkl\", \"wb\") as file:\n",
    "    pickle.dump(pred, file)"
   ]
  },
  {
   "cell_type": "markdown",
   "id": "68e819d7",
   "metadata": {},
   "source": [
    "### XGBoost with SMOTE+Tomek resampling"
   ]
  },
  {
   "cell_type": "code",
   "execution_count": null,
   "id": "a2d98db4",
   "metadata": {},
   "outputs": [],
   "source": [
    "# Import training data\n",
    "with open('Data clustering\\\\data_new_clusters.pkl', 'rb') as file:\n",
    "    data_new_clusters = pickle.load(file)"
   ]
  },
  {
   "cell_type": "code",
   "execution_count": null,
   "id": "bf8c406b",
   "metadata": {},
   "outputs": [],
   "source": [
    "# Dataframe with features and array with outcomes\n",
    "y = data_new_clusters[\"Cluster\"]\n",
    "X = data_new_clusters.drop([\"Total revenue\", \"Cluster\"], axis = \"columns\")"
   ]
  },
  {
   "cell_type": "code",
   "execution_count": null,
   "id": "e439ef79",
   "metadata": {},
   "outputs": [],
   "source": [
    "# Categorical variables \n",
    "cat_vars = X.columns.isin([\"Insurance\", \"Co-applicant\", \"Gender\", \"Quarter_2\", \"Quarter_3\", \"Quarter_4\"])"
   ]
  },
  {
   "cell_type": "code",
   "execution_count": null,
   "id": "b81f59b1",
   "metadata": {},
   "outputs": [],
   "source": [
    "# Resample with Smote-Tomek links\n",
    "resample = SMOTETomek(smote = SMOTENC(categorical_features = cat_vars, sampling_strategy = \"not majority\", k_neighbors = 5),  \n",
    "                      tomek = TomekLinks(sampling_strategy = \"all\"), \n",
    "                      random_state = 3)\n",
    "resampled_data = resample.fit_resample(X, y)\n",
    "X_resampled = resampled_data[0]\n",
    "y_resampled = resampled_data[1]"
   ]
  },
  {
   "cell_type": "code",
   "execution_count": null,
   "id": "50eb3bd4",
   "metadata": {},
   "outputs": [],
   "source": [
    "# Define a model with the best parameters \n",
    "model_xgb = XGBClassifier(subsample = 1, objective = 'multi:softmax', n_estimators = 200, min_child_weight = 2, \n",
    "                    max_depth = 5, gamma = 0.2, eta = 0.5, colsample_bytree = 0.9, booster = 'gbtree')"
   ]
  },
  {
   "cell_type": "code",
   "execution_count": null,
   "id": "f5adea0a",
   "metadata": {},
   "outputs": [],
   "source": [
    "# Fit a model\n",
    "model_xgb.fit(X_resampled, y_resampled)"
   ]
  },
  {
   "cell_type": "code",
   "execution_count": null,
   "id": "0173ae35",
   "metadata": {},
   "outputs": [],
   "source": [
    "# Import data for predictions\n",
    "with open('Data final\\\\data_new_test.pkl', 'rb') as file:\n",
    "    data_new_test = pickle.load(file)"
   ]
  },
  {
   "cell_type": "code",
   "execution_count": null,
   "id": "51aeb9b6",
   "metadata": {},
   "outputs": [],
   "source": [
    "# Fix Quarter variables\n",
    "data_new_test[\"Quarter_2\"] = 0\n",
    "data_new_test[\"Quarter_4\"] = 1 \n",
    "# Remove total revenue (we don't predict clusters based on this variable)\n",
    "data_new_test = data_new_test.drop([\"Total revenue\"], axis = \"columns\")\n",
    "# Remove observations with missing values in Default probability\n",
    "data_new_test = data_new_test.loc[-data_new_test[\"Default probability\"].isna()]"
   ]
  },
  {
   "cell_type": "code",
   "execution_count": null,
   "id": "cc791aa8",
   "metadata": {},
   "outputs": [],
   "source": [
    "# Get predictions\n",
    "pred = model_xgb.predict(data_new_test)"
   ]
  },
  {
   "cell_type": "code",
   "execution_count": null,
   "id": "86ed4d5c",
   "metadata": {},
   "outputs": [],
   "source": [
    "# Save predictions\n",
    "with open(\"data_new_test_clusters_XGBST.pkl\", \"wb\") as file:\n",
    "    pickle.dump(pred, file)"
   ]
  }
 ],
 "metadata": {
  "kernelspec": {
   "display_name": "Python 3 (ipykernel)",
   "language": "python",
   "name": "python3"
  },
  "language_info": {
   "codemirror_mode": {
    "name": "ipython",
    "version": 3
   },
   "file_extension": ".py",
   "mimetype": "text/x-python",
   "name": "python",
   "nbconvert_exporter": "python",
   "pygments_lexer": "ipython3",
   "version": "3.9.15"
  }
 },
 "nbformat": 4,
 "nbformat_minor": 5
}
